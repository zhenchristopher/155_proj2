{
 "cells": [
  {
   "cell_type": "code",
   "execution_count": 1,
   "metadata": {
    "collapsed": true
   },
   "outputs": [],
   "source": [
    "import numpy as np\n",
    "import pandas as pd\n",
    "import matplotlib.pyplot as plt\n",
    "\n",
    "%matplotlib inline"
   ]
  },
  {
   "cell_type": "code",
   "execution_count": 65,
   "metadata": {
    "collapsed": true
   },
   "outputs": [],
   "source": [
    "def grad_U(Ui, Yij, Vj, Ai, Bj, reg, eta):\n",
    "    \"\"\"\n",
    "    Takes as input Ui (the ith row of U), a training point Yij, the column\n",
    "    vector Vj (jth column of V^T), reg (the regularization parameter lambda),\n",
    "    and eta (the learning rate).\n",
    "\n",
    "    Returns the gradient of the regularized loss function with\n",
    "    respect to Ui multiplied by eta.\n",
    "    \"\"\"\n",
    "    return eta * (reg * Ui - Vj * (Yij - (np.dot(Ui, Vj) + Ai + Bj)))\n",
    "\n",
    "def grad_V(Ui, Yij, Vj, Ai, Bj, reg, eta):\n",
    "    \"\"\"\n",
    "    Takes as input the column vector Vj (jth column of V^T), a training point Yij,\n",
    "    Ui (the ith row of U), reg (the regularization parameter lambda),\n",
    "    and eta (the learning rate).\n",
    "\n",
    "    Returns the gradient of the regularized loss function with\n",
    "    respect to Vj multiplied by eta.\n",
    "    \"\"\"\n",
    "    return eta * (reg * Vj - Ui * (Yij - (np.dot(Ui, Vj) + Ai + Bj)))\n",
    "\n",
    "def grad_A(Ui, Yij, Vj, Ai, Bj, reg, eta):\n",
    "    \"\"\"\n",
    "    Takes as input the column vector Vj (jth column of V^T), a training point Yij,\n",
    "    Ui (the ith row of U), reg (the regularization parameter lambda),\n",
    "    and eta (the learning rate).\n",
    "\n",
    "    Returns the gradient of the regularized loss function with\n",
    "    respect to Ai multiplied by eta.\n",
    "    \"\"\"\n",
    "    return eta * (reg * Ai - (Yij - (np.dot(Ui, Vj) + Ai + Bj)))\n",
    "    \n",
    "def grad_B(Ui, Yij, Vj, Ai, Bj, reg, eta):\n",
    "    \"\"\"\n",
    "    Takes as input the column vector Vj (jth column of V^T), a training point Yij,\n",
    "    Ui (the ith row of U), reg (the regularization parameter lambda),\n",
    "    and eta (the learning rate).\n",
    "\n",
    "    Returns the gradient of the regularized loss function with\n",
    "    respect to Bj multiplied by eta.\n",
    "    \"\"\"\n",
    "    return eta * (reg * Bj - (Yij - (np.dot(Ui, Vj) + Ai + Bj)))\n",
    "\n",
    "def get_err(U, V, A, B, Y, reg=0.0):\n",
    "    \"\"\"\n",
    "    Takes as input a matrix Y of triples (i, j, Y_ij) where i is the index of a user,\n",
    "    j is the index of a movie, and Y_ij is user i's rating of movie j and\n",
    "    user/movie matrices U and V.\n",
    "\n",
    "    Returns the mean regularized squared-error of predictions made by\n",
    "    estimating Y_{ij} as the dot product of the ith row of U and the jth column of V^T.\n",
    "    \"\"\"\n",
    "        \n",
    "    reg_term = reg / 2 * (np.linalg.norm(U, ord='fro') +\n",
    "                          np.linalg.norm(V, ord='fro') +\n",
    "                          np.linalg.norm(A) +\n",
    "                          np.linalg.norm(B) )\n",
    "    \n",
    "    cum_sum = 0\n",
    "    \n",
    "    for Yij in Y:\n",
    "        cum_sum += np.square(np.dot(U[int(Yij[0])-1], V[int(Yij[1])-1]) + A[int(Yij[0])-1] + B[int(Yij[1])-1] - Yij[2])\n",
    "    \n",
    "    return cum_sum / (2 * len(Y)) + reg_term\n",
    "\n",
    "\n",
    "def train_model(M, N, K, eta, reg, Y, eps=0.0001, max_epochs=300):\n",
    "    \"\"\"\n",
    "    Given a training data matrix Y containing rows (i, j, Y_ij)\n",
    "    where Y_ij is user i's rating on movie j, learns an\n",
    "    M x K matrix U and N x K matrix V such that rating Y_ij is approximated\n",
    "    by (UV^T)_ij.\n",
    "\n",
    "    Uses a learning rate of <eta> and regularization of <reg>. Stops after\n",
    "    <max_epochs> epochs, or once the magnitude of the decrease in regularized\n",
    "    MSE between epochs is smaller than a fraction <eps> of the decrease in\n",
    "    MSE after the first epoch.\n",
    "\n",
    "    Returns a tuple (U, V, err) consisting of U, V, and the unregularized MSE\n",
    "    of the model.\n",
    "    \"\"\"\n",
    "    # Initialize U and V to small random numbers\n",
    "    U = np.random.rand(M, K) - 0.5\n",
    "    V = np.random.rand(N, K) - 0.5\n",
    "    A = np.random.rand(M) - 0.5\n",
    "    B = np.random.rand(N) - 0.5\n",
    "    \n",
    "    # Calculate initial error\n",
    "    errors = [get_err(U, V, A, B, Y, reg=reg)]\n",
    "    \n",
    "    test_errors = [get_err(U, V, A, B, Y)]\n",
    "    \n",
    "    # Implement SGD\n",
    "    for epoch in range(max_epochs):\n",
    "        curr_ord = np.random.permutation(Y)\n",
    "        \n",
    "        # Loop through each data point in the epoch\n",
    "        for point in curr_ord:\n",
    "            i = int(point[0])\n",
    "            j = int(point[1])\n",
    "            Yij = point[2]\n",
    "            i -= 1\n",
    "            j -= 1\n",
    "            du = grad_U(U[i], Yij, V[j], A[i], B[j], reg, eta)\n",
    "            dv = grad_V(U[i], Yij, V[j], A[i], B[j], reg, eta)\n",
    "            da = grad_A(U[i], Yij, V[j], A[i], B[j], reg, eta)\n",
    "            db = grad_B(U[i], Yij, V[j], A[i], B[j], reg, eta)\n",
    "            U[i] -= du\n",
    "            V[j] -= dv\n",
    "            A[i] -= da\n",
    "            B[j] -= db\n",
    "            \n",
    "        # Compare errors and exit if we've converged\n",
    "        errors.append(get_err(U, V, A, B, Y, reg=reg))\n",
    "        test_errors.append(get_err(U, V, A, B, Y))\n",
    "        if errors[-2] - errors[-1] < eps * (errors[0] - errors[1]) or errors[-2] - errors[-1] < 0:\n",
    "            break\n",
    "            \n",
    "    return (U, V, A, B, get_err(U, V, A, B, Y))"
   ]
  },
  {
   "cell_type": "code",
   "execution_count": 53,
   "metadata": {},
   "outputs": [],
   "source": [
    "# Load and manipulate train/test data\n",
    "train = np.loadtxt('./data/train.txt', delimiter='\\t')\n",
    "test = np.loadtxt('./data/test.txt', delimiter='\\t')"
   ]
  },
  {
   "cell_type": "code",
   "execution_count": 54,
   "metadata": {},
   "outputs": [],
   "source": [
    "train[:, 2] -= np.mean(train, axis=0)[2]\n",
    "test[:, 2] -= np.mean(test, axis=0)[2]"
   ]
  },
  {
   "cell_type": "code",
   "execution_count": 66,
   "metadata": {},
   "outputs": [],
   "source": [
    "# Search through best possible parameters\n",
    "M = 943\n",
    "N = 1682\n",
    "k = 20\n",
    "\n",
    "E_in = []\n",
    "E_out = []\n",
    "\n",
    "regs = [1e-3, 1e-2, 1e-1, 1]\n",
    "etas = [5e-4, 5e-3, 1e-2, 3e-2]\n",
    "\n",
    "for reg in regs:\n",
    "    E_in1 = []\n",
    "    E_out1 = []\n",
    "    for eta in etas:\n",
    "        U, V, A, B, train_err = train_model(M, N, k, eta, reg, train)\n",
    "        test_err = get_err(U, V, A, B, test)\n",
    "        E_in1.append(train_err)\n",
    "        E_out1.append(test_err)\n",
    "    E_in.append(E_in1)\n",
    "    E_out.append(E_out1)"
   ]
  },
  {
   "cell_type": "code",
   "execution_count": 73,
   "metadata": {},
   "outputs": [
    {
     "data": {
      "text/plain": [
       "<matplotlib.legend.Legend at 0x16ed3714c50>"
      ]
     },
     "execution_count": 73,
     "metadata": {},
     "output_type": "execute_result"
    },
    {
     "data": {
      "image/png": "[encoded data removed]",
      "text/plain": [
       "<matplotlib.figure.Figure at 0x16ed37db278>"
      ]
     },
     "metadata": {},
     "output_type": "display_data"
    }
   ],
   "source": [
    "plt.figure()\n",
    "\n",
    "for ind, reg in enumerate(regs):\n",
    "    plt.plot(etas, E_out[ind], label=str(reg))\n",
    "plt.legend()"
   ]
  },
  {
   "cell_type": "code",
   "execution_count": null,
   "metadata": {
    "collapsed": true
   },
   "outputs": [],
   "source": [
    "# Load data and packages for visualization\n"
   ]
  }
 ],
 "metadata": {
  "kernelspec": {
   "display_name": "Python [conda root]",
   "language": "python",
   "name": "conda-root-py"
  },
  "language_info": {
   "codemirror_mode": {
    "name": "ipython",
    "version": 3
   },
   "file_extension": ".py",
   "mimetype": "text/x-python",
   "name": "python",
   "nbconvert_exporter": "python",
   "pygments_lexer": "ipython3",
   "version": "3.6.2"
  }
 },
 "nbformat": 4,
 "nbformat_minor": 2
}
