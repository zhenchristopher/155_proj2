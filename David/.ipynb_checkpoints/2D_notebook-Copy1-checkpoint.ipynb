{
 "cells": [
  {
   "cell_type": "code",
   "execution_count": 1,
   "metadata": {
    "collapsed": true
   },
   "outputs": [],
   "source": [
    "import numpy as np\n",
    "import matplotlib.pyplot as plt"
   ]
  },
  {
   "cell_type": "code",
   "execution_count": 2,
   "metadata": {
    "collapsed": true
   },
   "outputs": [],
   "source": [
    "def grad_U(Ui, Yij, Vj, reg, eta):\n",
    "    \"\"\"\n",
    "    Takes as input Ui (the ith row of U), a training point Yij, the column\n",
    "    vector Vj (jth column of V^T), reg (the regularization parameter lambda),\n",
    "    and eta (the learning rate).\n",
    "\n",
    "    Returns the gradient of the regularized loss function with\n",
    "    respect to Ui multiplied by eta.\n",
    "    \"\"\"\n",
    "    return eta * (reg * Ui - Vj * (Yij - np.dot(Ui, Vj)))\n",
    "\n",
    "def grad_V(Vj, Yij, Ui, reg, eta):\n",
    "    \"\"\"\n",
    "    Takes as input the column vector Vj (jth column of V^T), a training point Yij,\n",
    "    Ui (the ith row of U), reg (the regularization parameter lambda),\n",
    "    and eta (the learning rate).\n",
    "\n",
    "    Returns the gradient of the regularized loss function with\n",
    "    respect to Vj multiplied by eta.\n",
    "    \"\"\"\n",
    "    return eta * (reg * Vj - Ui * (Yij - np.dot(Ui, Vj)))\n",
    "\n",
    "\n",
    "def get_err(U, V, Y, reg=0.0):\n",
    "    \"\"\"\n",
    "    Takes as input a matrix Y of triples (i, j, Y_ij) where i is the index of a user,\n",
    "    j is the index of a movie, and Y_ij is user i's rating of movie j and\n",
    "    user/movie matrices U and V.\n",
    "\n",
    "    Returns the mean regularized squared-error of predictions made by\n",
    "    estimating Y_{ij} as the dot product of the ith row of U and the jth column of V.\n",
    "    \"\"\"\n",
    "    reg_err = 0#reg * (np.linalg.norm(U)**2 + np.linalg.norm(V)**2)\n",
    "    squ_err = 0\n",
    "    for row in Y:\n",
    "        ii = row[0] - 1\n",
    "        jj = row[1] - 1\n",
    "        squ_err += (row[2] - np.dot(U[ii], V[jj])) ** 2\n",
    "    return 1/2 * (reg_err + squ_err) / len(Y)\n",
    "\n",
    "                      \n",
    "\n",
    "\n",
    "def train_model(M, N, K, eta, reg, Y, eps=0.0001, max_epochs=300):\n",
    "    import time\n",
    "    \"\"\"\n",
    "    Given a training data matrix Y containing rows (i, j, Y_ij)\n",
    "    where Y_ij is user i's rating on movie j, learns an\n",
    "    M x K matrix U and K x N matrix V such that rating Y_ij is approximated\n",
    "    by (UV^T)_ij.\n",
    "\n",
    "    Uses a learning rate of <eta> and regularization of <reg>. Stops after\n",
    "    <max_epochs> epochs, or once the magnitude of the decrease in regularized\n",
    "    MSE between epochs is smaller than a fraction <eps> of the decrease in\n",
    "    MSE after the first epoch.\n",
    "\n",
    "    Returns a tuple (U, V, err) consisting of U, V, and the unregularized MSE\n",
    "    of the model.\n",
    "    \"\"\"\n",
    "    import pdb\n",
    "    U = np.random.uniform(-.5, .5, size=(M, K))\n",
    "    V = np.random.uniform(-.5, .5, size=(N, K))\n",
    "    err0 = get_err(U, V, Y)\n",
    "    n_epochs = 0\n",
    "    \n",
    "\n",
    "    t_ep = 0\n",
    "    errs = []\n",
    "    while n_epochs < max_epochs:\n",
    "        t_grad = 0\n",
    "        t_err = 0\n",
    "        n_epochs += 1\n",
    "        print(n_epochs)\n",
    "        start_ep=time.time()\n",
    "        for row in np.random.permutation(len(Y)):\n",
    "            ii = Y[row][0] - 1\n",
    "            jj = Y[row][1] - 1\n",
    "            Yij = Y[row][2]\n",
    "            oldU = np.copy(U[ii])\n",
    "            oldV = np.copy(V[jj])\n",
    "            start = time.time()\n",
    "            U[ii] = oldU - grad_U(oldU, Yij, oldV, reg, eta)\n",
    "            V[jj] = oldV - grad_V(oldV, Yij, oldU, reg, eta)\n",
    "            t_grad += time.time() - start\n",
    "        st_err = time.time()\n",
    "        errs.append(get_err(U, V, Y, reg))\n",
    "        t_err +=  time.time() - st_err\n",
    "        #pdb.set_trace()\n",
    "        if n_epochs == 1:\n",
    "            err0 = errs[0]/err0\n",
    "        else:\n",
    "            if (errs[-2] - errs[-1])/err0 < eps:\n",
    "                break\n",
    "        print(t_grad, t_err, time.time() - start_ep)\n",
    "    return (U, V, get_err(U, V, Y))\n",
    "        \n",
    "                                                                   "
   ]
  },
  {
   "cell_type": "code",
   "execution_count": 3,
   "metadata": {},
   "outputs": [
    {
     "name": "stdout",
     "output_type": "stream",
     "text": [
      "Factorizing with  943  users,  1682  movies.\n"
     ]
    }
   ],
   "source": [
    "\n",
    "Y_train = np.loadtxt('data/train.txt').astype(int)\n",
    "Y_test = np.loadtxt('data/test.txt').astype(int)\n",
    "\n",
    "M = max(max(Y_train[:,0]), max(Y_test[:,0])).astype(int) # users\n",
    "N = max(max(Y_train[:,1]), max(Y_test[:,1])).astype(int) # movies\n",
    "print(\"Factorizing with \", M, \" users, \", N, \" movies.\")\n",
    "Ks = [10,20,30,50,100]\n",
    "\n",
    "reg = 0.0\n",
    "eta = 0.03 # learning rate\n",
    "E_in = []\n",
    "E_out = []\n",
    "\n"
   ]
  },
  {
   "cell_type": "code",
   "execution_count": null,
   "metadata": {},
   "outputs": [
    {
     "name": "stdout",
     "output_type": "stream",
     "text": [
      "10\n",
      "1\n",
      "2.2143681049346924 0.5647671222686768 3.516866683959961\n",
      "2\n",
      "2.1406381130218506 0.5469012260437012 3.5134167671203613\n",
      "3\n",
      "2.2127161026000977 0.5671663284301758 3.5051207542419434\n",
      "4\n",
      "2.0477778911590576 0.5541784763336182 3.449784755706787\n",
      "5\n",
      "2.088207483291626 0.5525569915771484 3.447248935699463\n",
      "6\n",
      "2.176621437072754 0.5875957012176514 3.4938573837280273\n",
      "7\n",
      "2.058739423751831 0.567636251449585 3.4963903427124023\n",
      "8\n",
      "2.124156951904297 0.5647878646850586 3.4800987243652344\n",
      "9\n",
      "2.167513370513916 0.5676524639129639 3.466500997543335\n",
      "10\n",
      "2.118211030960083 0.5622916221618652 3.4703056812286377\n",
      "11\n",
      "2.3163630962371826 0.5797994136810303 3.5989131927490234\n",
      "12\n",
      "2.171992778778076 0.5652871131896973 3.5107696056365967\n",
      "13\n",
      "2.179805040359497 0.5679681301116943 3.4991648197174072\n",
      "14\n",
      "2.1465561389923096 0.5793251991271973 3.5014586448669434\n",
      "15\n",
      "2.002939462661743 0.5645127296447754 3.4832839965820312\n",
      "16\n",
      "2.1479170322418213 0.5760354995727539 3.528748035430908\n",
      "17\n",
      "2.3544769287109375 0.5869102478027344 3.723505735397339\n",
      "18\n",
      "2.2810637950897217 0.5469009876251221 3.5646233558654785\n",
      "19\n",
      "2.2062132358551025 0.5685422420501709 3.640397787094116\n",
      "20\n",
      "2.2741832733154297 0.551123857498169 3.547868490219116\n",
      "21\n",
      "2.2975049018859863 0.5625274181365967 3.5150914192199707\n",
      "22\n"
     ]
    }
   ],
   "source": [
    "# Use to compute Ein and Eout\n",
    "for K in Ks:\n",
    "    print(K)\n",
    "    U,V, err = train_model(M, N, K, eta, reg, Y_train)\n",
    "    E_in.append(err)\n",
    "    E_out.append(get_err(U, V, Y_test))\n",
    "\n"
   ]
  },
  {
   "cell_type": "code",
   "execution_count": 10,
   "metadata": {},
   "outputs": [
    {
     "data": {
      "image/png": "[encoded data removed]",
      "text/plain": [
       "<matplotlib.figure.Figure at 0x21c58d20ac8>"
      ]
     },
     "metadata": {},
     "output_type": "display_data"
    }
   ],
   "source": [
    "#old = (E_in, E_out)\n",
    "#Ks = [10, 20, 30, 50, 100]\n",
    "plt.plot(Ks, E_in, label='$E_{in}$')\n",
    "plt.plot(Ks, E_out, label='$E_{out}$')\n",
    "plt.title('Error vs. K')\n",
    "plt.xlabel('K')\n",
    "plt.ylabel('Error')\n",
    "plt.legend()\n",
    "plt.savefig('2d.png')\n",
    "plt.show()"
   ]
  },
  {
   "cell_type": "code",
   "execution_count": null,
   "metadata": {
    "collapsed": true
   },
   "outputs": [],
   "source": [
    "E_out"
   ]
  },
  {
   "cell_type": "code",
   "execution_count": null,
   "metadata": {
    "collapsed": true
   },
   "outputs": [],
   "source": [
    "E_in"
   ]
  },
  {
   "cell_type": "code",
   "execution_count": null,
   "metadata": {
    "collapsed": true
   },
   "outputs": [],
   "source": []
  }
 ],
 "metadata": {
  "kernelspec": {
   "display_name": "Python 3",
   "language": "python",
   "name": "python3"
  },
  "language_info": {
   "codemirror_mode": {
    "name": "ipython",
    "version": 3
   },
   "file_extension": ".py",
   "mimetype": "text/x-python",
   "name": "python",
   "nbconvert_exporter": "python",
   "pygments_lexer": "ipython3",
   "version": "3.6.1"
  }
 },
 "nbformat": 4,
 "nbformat_minor": 2
}
